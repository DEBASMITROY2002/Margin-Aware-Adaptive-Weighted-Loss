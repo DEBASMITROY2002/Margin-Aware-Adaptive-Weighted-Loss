{
 "cells": [
  {
   "cell_type": "code",
   "execution_count": 1,
   "metadata": {},
   "outputs": [
    {
     "name": "stdout",
     "output_type": "stream",
     "text": [
      "\u001b[34mData\u001b[m\u001b[m         MAAW.py      Script.ipynb \u001b[34msaved_models\u001b[m\u001b[m\r\n",
      "LICENSE      README.md    main.py      \u001b[34mutils\u001b[m\u001b[m\r\n"
     ]
    }
   ],
   "source": [
    "!ls"
   ]
  },
  {
   "cell_type": "code",
   "execution_count": 16,
   "metadata": {},
   "outputs": [
    {
     "name": "stdout",
     "output_type": "stream",
     "text": [
      "=========================== Data Batching ==========================\n",
      "Current Run Time : cifar10\n",
      "Found 27500 images belonging to 10 classes.\n",
      "Found 10000 images belonging to 10 classes.\n",
      "2023-01-27 18:22:31.649646: I tensorflow/core/platform/cpu_feature_guard.cc:142] This TensorFlow binary is optimized with oneAPI Deep Neural Network Library (oneDNN) to use the following CPU instructions in performance-critical operations:  AVX2 FMA\n",
      "To enable them in other operations, rebuild TensorFlow with the appropriate compiler flags.\n",
      "=========================== Model Warming UP ==========================\n",
      "=========================== Model Run ==========================\n",
      "========== STAGE 0 ==========\n",
      "****** Current Parameters : alpha = 1.0, beta = 1.0, max_epoch = 2, val_acc_thresh = 0.7 *******\n",
      "Start of epoch 0\n",
      "Training loss for step 3: 0.0809: 100%|███████████████████████████████████| 3/3 \n",
      " Epoch 0: Train loss: 0.0921  Validation Loss: 0.0757,         Train Accuracy: 0.1836, Validation Accuracy 0.2122\n",
      "Start of epoch 1\n",
      "Training loss for step 3: 0.0737: 100%|███████████████████████████████████| 3/3 \n",
      " Epoch 1: Train loss: 0.0783  Validation Loss: 0.0728,         Train Accuracy: 0.2279, Validation Accuracy 0.2318\n",
      "WARNING:tensorflow:Compiled the loaded model, but the compiled metrics have yet to be built. `model.compile_metrics` will be empty until you train or evaluate the model.\n",
      "[ Model Saved As saved_models/cifar10_1.0_1.0.h5 ]\n",
      "========== Validation Starts ==========\n",
      "2023-01-27 18:24:38.764431: I tensorflow/compiler/mlir/mlir_graph_optimization_pass.cc:176] None of the MLIR Optimization Passes are enabled (registered 2)\n",
      "*********** avg_pre:  0.28874162068978027\n",
      "*********** avg_rec:  0.24541798746640092\n",
      "*********** avg_f1:  0.20090686677433828\n",
      "*********** avg_spe:  0.9164842869213066\n",
      "*********** avg_geo:  0.47425913722437296\n",
      "*********** MCC:  0.17369112620237176\n",
      "*********** Cohen Kappa Score:  0.16507818237942673\n",
      "*********** AUC/ROC:  0.7017672\n",
      "========== STAGE 1 ==========\n",
      "****** Current Parameters : alpha = 1.02, beta = 0.99, max_epoch = 2, val_acc_thresh = 0.72 *******\n",
      "Start of epoch 0\n",
      "Training loss for step 3: 0.0878: 100%|███████████████████████████████████| 3/3 \n",
      " Epoch 0: Train loss: 0.1046  Validation Loss: 0.0926,         Train Accuracy: 0.2266, Validation Accuracy 0.2396\n",
      "Start of epoch 1\n",
      "Training loss for step 3: 0.0873: 100%|███████████████████████████████████| 3/3 \n",
      " Epoch 1: Train loss: 0.0909  Validation Loss: 0.0864,         Train Accuracy: 0.3568, Validation Accuracy 0.3086\n",
      "WARNING:tensorflow:Compiled the loaded model, but the compiled metrics have yet to be built. `model.compile_metrics` will be empty until you train or evaluate the model.\n",
      "[ Model Saved As saved_models/cifar10_1.02_0.99.h5 ]\n",
      "========== Validation Starts ==========\n",
      "*********** avg_pre:  0.3187167566278266\n",
      "*********** avg_rec:  0.2946709772298565\n",
      "*********** avg_f1:  0.27366279465120913\n",
      "*********** avg_spe:  0.9211532660476397\n",
      "*********** avg_geo:  0.5209962889356622\n",
      "*********** MCC:  0.21807422019866107\n",
      "*********** Cohen Kappa Score:  0.21163285470262871\n",
      "*********** AUC/ROC:  0.75896966\n",
      "========== STAGE 2 ==========\n",
      "****** Current Parameters : alpha = 1.04, beta = 0.98, max_epoch = 2, val_acc_thresh = 0.73 *******\n",
      "Start of epoch 0\n",
      "Training loss for step 3: 0.0938: 100%|███████████████████████████████████| 3/3 \n",
      " Epoch 0: Train loss: 0.0966  Validation Loss: 0.0903,         Train Accuracy: 0.3073, Validation Accuracy 0.2279\n",
      "Start of epoch 1\n",
      "Training loss for step 3: 0.0883: 100%|███████████████████████████████████| 3/3 \n",
      " Epoch 1: Train loss: 0.0903  Validation Loss: 0.0871,         Train Accuracy: 0.3542, Validation Accuracy 0.2240\n",
      "WARNING:tensorflow:Compiled the loaded model, but the compiled metrics have yet to be built. `model.compile_metrics` will be empty until you train or evaluate the model.\n",
      "[ Model Saved As saved_models/cifar10_1.04_0.98.h5 ]\n",
      "========== Validation Starts ==========\n",
      "*********** avg_pre:  0.2808202269569217\n",
      "*********** avg_rec:  0.23588305011420738\n",
      "*********** avg_f1:  0.18252927643456146\n",
      "*********** avg_spe:  0.914142501371836\n",
      "*********** avg_geo:  0.4643605511481565\n",
      "*********** MCC:  0.15114616790238553\n",
      "*********** Cohen Kappa Score:  0.1414904117910083\n",
      "*********** AUC/ROC:  0.7064804\n",
      "========== STAGE 3 ==========\n",
      "****** Current Parameters : alpha = 1.07, beta = 0.97, max_epoch = 2, val_acc_thresh = 0.75 *******\n",
      "Start of epoch 0\n",
      "Training loss for step 3: 0.0914: 100%|███████████████████████████████████| 3/3 \n",
      " Epoch 0: Train loss: 0.0897  Validation Loss: 0.0890,         Train Accuracy: 0.2930, Validation Accuracy 0.2448\n",
      "Start of epoch 1\n",
      "Training loss for step 3: 0.0888: 100%|███████████████████████████████████| 3/3 \n",
      " Epoch 1: Train loss: 0.0869  Validation Loss: 0.0873,         Train Accuracy: 0.3307, Validation Accuracy 0.1628\n",
      "WARNING:tensorflow:Compiled the loaded model, but the compiled metrics have yet to be built. `model.compile_metrics` will be empty until you train or evaluate the model.\n",
      "[ Model Saved As saved_models/cifar10_1.07_0.97.h5 ]\n",
      "========== Validation Starts ==========\n",
      "*********** avg_pre:  0.25116615817676957\n",
      "*********** avg_rec:  0.16219336002503623\n",
      "*********** avg_f1:  0.15675671934384838\n",
      "*********** avg_spe:  0.9066925614222672\n",
      "*********** avg_geo:  0.3834833934432938\n",
      "*********** MCC:  0.0728819307241959\n",
      "*********** Cohen Kappa Score:  0.06698865356002226\n",
      "*********** AUC/ROC:  0.6377003\n",
      "Training loss for step 3: 0.0737: 100%|███████████████████████████████████| 3/3 \n",
      "Training loss for step 3: 0.0914: 100%|███████████████████████████████████| 3/3 \n",
      "Training loss for step 3: 0.0873: 100%|███████████████████████████████████| 3/3 \n",
      "Training loss for step 3: 0.0878: 100%|███████████████████████████████████| 3/3 \n",
      "Training loss for step 3: 0.0938: 100%|███████████████████████████████████| 3/3 \n",
      "Training loss for step 3: 0.0883: 100%|███████████████████████████████████| 3/3 \n",
      "Training loss for step 3: 0.0809: 100%|███████████████████████████████████| 3/3 \n",
      "Training loss for step 3: 0.0888: 100%|███████████████████████████████████| 3/3 \n"
     ]
    }
   ],
   "source": [
    "!python3 main.py --runtimename \"cifar10\""
   ]
  },
  {
   "cell_type": "code",
   "execution_count": null,
   "metadata": {},
   "outputs": [],
   "source": []
  },
  {
   "cell_type": "code",
   "execution_count": null,
   "metadata": {},
   "outputs": [],
   "source": []
  },
  {
   "cell_type": "code",
   "execution_count": 14,
   "metadata": {},
   "outputs": [
    {
     "name": "stdout",
     "output_type": "stream",
     "text": [
      "False\n"
     ]
    }
   ],
   "source": [
    "s = \"abcdef\"\n",
    "\n",
    "print(s.__contains__(\"dee\"))"
   ]
  },
  {
   "cell_type": "code",
   "execution_count": null,
   "metadata": {},
   "outputs": [],
   "source": []
  }
 ],
 "metadata": {
  "kernelspec": {
   "display_name": "Python 3",
   "language": "python",
   "name": "python3"
  },
  "language_info": {
   "codemirror_mode": {
    "name": "ipython",
    "version": 3
   },
   "file_extension": ".py",
   "mimetype": "text/x-python",
   "name": "python",
   "nbconvert_exporter": "python",
   "pygments_lexer": "ipython3",
   "version": "3.8.3"
  }
 },
 "nbformat": 4,
 "nbformat_minor": 4
}
